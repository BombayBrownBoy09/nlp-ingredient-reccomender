{
 "cells": [
  {
   "cell_type": "markdown",
   "id": "f74dfad7",
   "metadata": {},
   "source": [
    "# Demo | Distributed representations of sentences & documents"
   ]
  },
  {
   "cell_type": "code",
   "execution_count": 1,
   "id": "78e91cbe",
   "metadata": {},
   "outputs": [],
   "source": [
    "# import packages\n",
    "import pandas as pd\n",
    "import numpy as np\n",
    "from gensim.models.doc2vec import Doc2Vec, TaggedDocument\n",
    "import re\n",
    "from sklearn.metrics.pairwise import cosine_similarity\n",
    "from gensim import corpora\n",
    "import random"
   ]
  },
  {
   "cell_type": "markdown",
   "id": "1bba04f9",
   "metadata": {},
   "source": [
    "## Prepare Data"
   ]
  },
  {
   "cell_type": "code",
   "execution_count": 2,
   "id": "a7f3c4e2",
   "metadata": {},
   "outputs": [],
   "source": [
    "random.seed(0)"
   ]
  },
  {
   "cell_type": "code",
   "execution_count": 3,
   "id": "c8a779d1",
   "metadata": {},
   "outputs": [],
   "source": [
    "# load data\n",
    "with np.load('../data/raw/simplified-recipes-1M.npz', allow_pickle=True) as data:\n",
    "    ingredients = data['ingredients']\n",
    "    recipes = data['recipes']"
   ]
  },
  {
   "cell_type": "code",
   "execution_count": 4,
   "id": "2d37a43b",
   "metadata": {},
   "outputs": [
    {
     "name": "stdout",
     "output_type": "stream",
     "text": [
      "727892\n"
     ]
    }
   ],
   "source": [
    "# load data into list\n",
    "recipes_list = []\n",
    "for i in range(len(recipes)):\n",
    "    try:\n",
    "        recipes_list.append(list(ingredients[recipes[i]]))\n",
    "    except:\n",
    "        print(i)\n",
    "        continue"
   ]
  },
  {
   "cell_type": "code",
   "execution_count": 5,
   "id": "940dc5b9",
   "metadata": {},
   "outputs": [],
   "source": [
    "# shuffle array randomly\n",
    "random.shuffle(recipes_list)\n",
    "\n",
    "# split into test and train (85/15)\n",
    "split = round(len(recipes_list)*.85)\n",
    "\n",
    "# X_train and X_test\n",
    "X_train = recipes_list[:split]\n",
    "X_test = recipes_list[split:]"
   ]
  },
  {
   "cell_type": "markdown",
   "id": "94ea91dd",
   "metadata": {},
   "source": [
    "## Doc2Vec Classification"
   ]
  },
  {
   "cell_type": "code",
   "execution_count": 6,
   "id": "a7c8de25",
   "metadata": {},
   "outputs": [],
   "source": [
    "# create doc2vec vocab training\n",
    "train_corpus = []\n",
    "for i, sentence in enumerate(X_train):\n",
    "    train_corpus.append(TaggedDocument(words=sentence, tags=str(i)))"
   ]
  },
  {
   "cell_type": "code",
   "execution_count": 7,
   "id": "78f55dfe",
   "metadata": {},
   "outputs": [],
   "source": [
    "# build and train doc2vec model\n",
    "model = Doc2Vec(vector_size=50, min_count=2, epochs=25, dm=1)\n",
    "model.build_vocab(train_corpus)\n",
    "model.train(train_corpus, total_examples=model.corpus_count, epochs=model.epochs)"
   ]
  },
  {
   "cell_type": "code",
   "execution_count": 8,
   "id": "aca821d1",
   "metadata": {},
   "outputs": [],
   "source": [
    "# build d2v test dataset\n",
    "X_test_d2v = []\n",
    "labels = []\n",
    "for recipe in X_test:\n",
    "    random.shuffle(recipe)\n",
    "    labels.append(recipe.pop())\n",
    "    X_test_d2v.append(model.infer_vector(recipe))\n",
    "X_test_d2v = pd.DataFrame(X_test_d2v)"
   ]
  },
  {
   "cell_type": "code",
   "execution_count": 9,
   "id": "66aa2eee",
   "metadata": {},
   "outputs": [],
   "source": [
    "# get vectors for each ingredient\n",
    "ingredients_d2v = []\n",
    "for ingredient in ingredients:\n",
    "    ingredients_d2v.append(model.infer_vector([ingredient]))\n",
    "ingredients_d2v = pd.DataFrame(ingredients_d2v)"
   ]
  },
  {
   "cell_type": "code",
   "execution_count": 10,
   "id": "1655ed15",
   "metadata": {},
   "outputs": [],
   "source": [
    "# matrix of pairwise cosine results\n",
    "pw_cosine_results = pd.DataFrame(cosine_similarity(ingredients_d2v, X_test_d2v))"
   ]
  },
  {
   "cell_type": "code",
   "execution_count": 11,
   "id": "7e547653",
   "metadata": {},
   "outputs": [],
   "source": [
    "# calculate rank of prediction\n",
    "rank = []\n",
    "for col in pw_cosine_results:\n",
    "    vals = pw_cosine_results[col]\n",
    "    ingredients = list(ingredients)\n",
    "    results = pd.DataFrame()\n",
    "    results['cs'] = vals\n",
    "    results['ingredients'] = ingredients\n",
    "    results = results.sort_values(by='cs', ascending=False)\n",
    "    \n",
    "    for i, item in enumerate(list(results.ingredients)):\n",
    "        if labels[int(col)] == item:\n",
    "            rank.append(i+1)"
   ]
  },
  {
   "cell_type": "code",
   "execution_count": 12,
   "id": "d9d6adc1",
   "metadata": {},
   "outputs": [
    {
     "name": "stdout",
     "output_type": "stream",
     "text": [
      "Mean reciprocal rank: 0.010080604037852428\n"
     ]
    }
   ],
   "source": [
    "mrr = np.mean(1/np.array(rank))\n",
    "print('Mean reciprocal rank:', mrr)"
   ]
  },
  {
   "cell_type": "code",
   "execution_count": 13,
   "id": "86be4191",
   "metadata": {},
   "outputs": [
    {
     "name": "stdout",
     "output_type": "stream",
     "text": [
      "Random guess: 0.0018642590181902833\n"
     ]
    }
   ],
   "source": [
    "random_guess = np.random.randint(low=1, high=len(ingredients), size=len(ingredients), dtype=int)\n",
    "mrr_random = np.mean(1/random_guess)\n",
    "print('Random guess:', mrr_random)"
   ]
  }
 ],
 "metadata": {
  "kernelspec": {
   "display_name": "Python 3 (ipykernel)",
   "language": "python",
   "name": "python3"
  },
  "language_info": {
   "codemirror_mode": {
    "name": "ipython",
    "version": 3
   },
   "file_extension": ".py",
   "mimetype": "text/x-python",
   "name": "python",
   "nbconvert_exporter": "python",
   "pygments_lexer": "ipython3",
   "version": "3.7.11"
  }
 },
 "nbformat": 4,
 "nbformat_minor": 5
}
