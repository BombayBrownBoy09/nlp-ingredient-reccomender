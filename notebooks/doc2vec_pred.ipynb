{
 "cells": [
  {
   "cell_type": "code",
   "execution_count": 2,
   "id": "4e53b4f0",
   "metadata": {},
   "outputs": [],
   "source": [
    "# import packages\n",
    "import pandas as pd\n",
    "import numpy as np\n",
    "from gensim.models.doc2vec import Doc2Vec, TaggedDocument\n",
    "import re\n",
    "from sklearn.metrics.pairwise import cosine_similarity\n",
    "from gensim import corpora\n",
    "import random\n",
    "import pickle"
   ]
  },
  {
   "cell_type": "code",
   "execution_count": 16,
   "id": "1fd59a86",
   "metadata": {},
   "outputs": [],
   "source": [
    "with open('../models/doc2vec_model', 'rb') as model_file:\n",
    "    model = pickle.load(model_file)"
   ]
  },
  {
   "cell_type": "code",
   "execution_count": 58,
   "id": "9276bae1",
   "metadata": {},
   "outputs": [
    {
     "name": "stdout",
     "output_type": "stream",
     "text": [
      "Brownies, Chocolate, Oreos\n"
     ]
    }
   ],
   "source": [
    "print(\"Enter your current recipe:\")\n",
    "input_recipe = input()"
   ]
  },
  {
   "cell_type": "code",
   "execution_count": 59,
   "id": "8b150fa7",
   "metadata": {},
   "outputs": [],
   "source": [
    "# clean input recipe for model predictions\n",
    "input_recipe = re.sub(' +', '', input_recipe)\n",
    "input_recipe = input_recipe.lower()\n",
    "input_recipe = input_recipe.split(',')"
   ]
  },
  {
   "cell_type": "code",
   "execution_count": 60,
   "id": "f207464f",
   "metadata": {},
   "outputs": [
    {
     "data": {
      "text/plain": [
       "['brownies', 'chocolate', 'oreos']"
      ]
     },
     "execution_count": 60,
     "metadata": {},
     "output_type": "execute_result"
    }
   ],
   "source": [
    "input_recipe"
   ]
  },
  {
   "cell_type": "code",
   "execution_count": 61,
   "id": "4e7fd538",
   "metadata": {},
   "outputs": [],
   "source": [
    "# conver input recipe to d2v vectors \n",
    "input_recipe_d2v = model.infer_vector(input_recipe)\n",
    "input_recipe_d2v = input_recipe_d2v.reshape(-1, len(input_recipe_d2v))\n",
    "input_recipe_d2v = pd.DataFrame(input_recipe_d2v)"
   ]
  },
  {
   "cell_type": "code",
   "execution_count": 64,
   "id": "0e30ec92",
   "metadata": {},
   "outputs": [],
   "source": [
    "ingredients_d2v = pd.read_csv('../data/outputs/ingredient_doc2vec.csv')\n",
    "ingredients = ingredients_d2v['ingredient']\n",
    "ingredients_d2v = ingredients_d2v.drop(columns=['ingredient'])"
   ]
  },
  {
   "cell_type": "code",
   "execution_count": 65,
   "id": "eb7bd67e",
   "metadata": {},
   "outputs": [],
   "source": [
    "pw_cosine_results = pd.DataFrame(cosine_similarity(input_recipe_d2v, ingredients_d2v))"
   ]
  },
  {
   "cell_type": "code",
   "execution_count": 66,
   "id": "d02c2dd0",
   "metadata": {},
   "outputs": [],
   "source": [
    "predictions = pd.DataFrame()\n",
    "cs_sim = pw_cosine_results.values[0]\n",
    "predictions['ingredients'] = ingredients\n",
    "predictions['cs'] = cs_sim"
   ]
  },
  {
   "cell_type": "code",
   "execution_count": 68,
   "id": "03bf7908",
   "metadata": {},
   "outputs": [
    {
     "name": "stdout",
     "output_type": "stream",
     "text": [
      "Have you considered including any of the following:\n",
      "- semisweet chocolate chips\n",
      "- food color\n",
      "- chili peppers\n",
      "- powdered sugar\n",
      "- extract\n",
      "- cornflour\n",
      "- chocolate\n",
      "- pumpkin pie spice\n",
      "- red chile\n",
      "- angel food cake mix\n"
     ]
    }
   ],
   "source": [
    "predictions = predictions.sort_values(by='cs', ascending=False).head(10)\n",
    "t10_preds = list(predictions['ingredients'].values)\n",
    "print('Have you considered including any of the following?')\n",
    "for ingredient in t10_preds:\n",
    "    print('-', ingredient)"
   ]
  }
 ],
 "metadata": {
  "kernelspec": {
   "display_name": "Python 3 (ipykernel)",
   "language": "python",
   "name": "python3"
  },
  "language_info": {
   "codemirror_mode": {
    "name": "ipython",
    "version": 3
   },
   "file_extension": ".py",
   "mimetype": "text/x-python",
   "name": "python",
   "nbconvert_exporter": "python",
   "pygments_lexer": "ipython3",
   "version": "3.7.11"
  }
 },
 "nbformat": 4,
 "nbformat_minor": 5
}
